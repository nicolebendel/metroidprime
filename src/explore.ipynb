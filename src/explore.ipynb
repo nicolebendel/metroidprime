{
    "cells": [
        {
            "cell_type": "code",
            "execution_count": null,
            "metadata": {
                "vscode": {
                    "languageId": "plaintext"
                }
            },
            "outputs": [],
            "source": [
                "import requests\n",
                "import pandas as pd\n",
                "\n",
                "df = pd.read_csv('https://data.nasa.gov/api/views/gh4g-9sfh/rows.csv?accessType=DOWNLOAD')\n",
                "\n",
                "df"
            ]
        },
        {
            "cell_type": "code",
            "execution_count": null,
            "metadata": {
                "vscode": {
                    "languageId": "plaintext"
                }
            },
            "outputs": [],
            "source": [
                "##Hemisferios nuevos \n",
                "df['Hemisphere_ns'] = df['reclat'].apply(lambda x: 'North' if x >= 0 else 'South')\n",
                "\n",
                "\n",
                "df['Hemisphere_ew'] = df['reclong'].apply(lambda x: 'East' if x >= 0 else 'West')\n",
                "\n",
                "df"
            ]
        },
        {
            "cell_type": "code",
            "execution_count": null,
            "metadata": {
                "vscode": {
                    "languageId": "plaintext"
                }
            },
            "outputs": [],
            "source": [
                "df.dropna(inplace=True)\n",
                "df"
            ]
        },
        {
            "cell_type": "code",
            "execution_count": null,
            "metadata": {
                "vscode": {
                    "languageId": "plaintext"
                }
            },
            "outputs": [],
            "source": [
                "import geopandas as gpd\n",
                "import pandas as pd\n",
                "import earthpy as et\n",
                "import shapely\n",
                "from folium.plugins import MarkerCluster\n",
                "from shapely.wkt import loads as wkt_loads \n",
                "from shapely.geometry import Point\n",
                "\n",
                "from shapely.geometry import Point\n",
                "\n",
                "shapefile_path = '/workspaces/Meteo/data/raw/country_shapes.shp'\n",
                "gdf_countries = gpd.read_file(shapefile_path)\n",
                "df['geometry'] = df.apply(lambda row: Point(row['reclong'], row['reclat']), axis=1)\n",
                "gdf_points = gpd.GeoDataFrame(df, geometry='geometry')\n",
                "gdf_points = gdf_points.set_crs(gdf_countries.crs)\n",
                "gdf_merged = gpd.sjoin(gdf_points, gdf_countries, how='left', op='within')\n",
                "df.reset_index(drop=True, inplace=True)\n",
                "gdf_merged.reset_index(drop=True, inplace=True)\n",
                "\n",
                "\n",
                "if len(gdf_merged) == len(df):\n",
                "    df['cntry_name'] = gdf_merged['cntry_name']\n",
                "else:\n",
                "    \n",
                "    df = df.join(gdf_merged['cntry_name'])\n",
                "\n",
                "\n",
                "df"
            ]
        },
        {
            "cell_type": "code",
            "execution_count": null,
            "metadata": {
                "vscode": {
                    "languageId": "plaintext"
                }
            },
            "outputs": [],
            "source": [
                "##Pais que mas se repite\n",
                "\n",
                "most_country = gdf_merged['cntry_name'].value_counts().idxmax()\n",
                "most_country"
            ]
        },
        {
            "cell_type": "code",
            "execution_count": null,
            "metadata": {
                "vscode": {
                    "languageId": "plaintext"
                }
            },
            "outputs": [],
            "source": [
                "##TOP 10 de paises\n",
                "\n",
                "country_counts = gdf_merged['cntry_name'].value_counts()\n",
                "\n",
                "top_10 = country_counts.head(10)\n",
                "\n",
                "top_10"
            ]
        },
        {
            "cell_type": "code",
            "execution_count": null,
            "metadata": {
                "vscode": {
                    "languageId": "plaintext"
                }
            },
            "outputs": [],
            "source": [
                "##Agrupar peso de meteos en 10(?)\n",
                "pd.qcut() agrupa segun frecuencia \n",
                "df['mass_group'] = pd.qcut(df['mass (g)'], 10, labels=False)\n",
                "\n",
                "\n",
                "print(df[['mass (g)', 'mass_group']])"
            ]
        },
        {
            "cell_type": "code",
            "execution_count": null,
            "metadata": {
                "vscode": {
                    "languageId": "plaintext"
                }
            },
            "outputs": [],
            "source": [
                "###NO RUN POR QUE SI NO QUEDA LA CAGA\n",
                "import folium\n",
                "center_lat = df['reclat'].mean()\n",
                "center_long = df['reclong'].mean()\n",
                "\n",
                "\n",
                "m = folium.Map(location=[center_lat, center_long], zoom_start=4)\n",
                "\n",
                "\n",
                "for index, row in df.iterrows():\n",
                "    folium.Marker([row['reclat'], row['reclong']]).add_to(m)\n",
                "\n",
                "\n",
                "m"
            ]
        }
    ],
    "metadata": {
        "kernelspec": {
            "display_name": "Python 3.8.13 64-bit ('3.8.13')",
            "language": "python",
            "name": "python3"
        },
        "language_info": {
            "codemirror_mode": {
                "name": "ipython",
                "version": 3
            },
            "file_extension": ".py",
            "mimetype": "text/x-python",
            "name": "python",
            "nbconvert_exporter": "python",
            "pygments_lexer": "ipython3",
            "version": "3.10.12"
        },
        "orig_nbformat": 4,
        "vscode": {
            "interpreter": {
                "hash": "110cc1dee26208153f2972f08a2ad52b6a56238dc66d48e87fb757ef2996db56"
            }
        }
    },
    "nbformat": 4,
    "nbformat_minor": 2
}
